{
 "cells": [
  {
   "cell_type": "code",
   "execution_count": 1,
   "id": "bacterial-china",
   "metadata": {},
   "outputs": [],
   "source": [
    "import h5py\n",
    "import numpy as np\n",
    "import sys\n",
    "import time\n",
    "import numpy.random\n",
    "import pandas as pd\n",
    "import numpy as np\n",
    "import scipy\n",
    "import scipy.sparse\n",
    "import scipy.stats\n",
    "import os\n",
    "import scipy.io as sio\n",
    "\n",
    "\n",
    "\n",
    "\n",
    "data = sio.loadmat('Reads.mat')\n",
    "# A5SS\n",
    "A5SS_data = data['A5SS']\n",
    "A5SS_reads = np.array(A5SS_data.sum(1)).flatten()\n",
    "A5SS_data = np.array(A5SS_data.todense())\n",
    "# Get minigenes with reads\n",
    "A5SS_nn = (A5SS_data.sum(axis=1))>0\n",
    "A5SS_reads = A5SS_reads[A5SS_nn]\n",
    "A5SS_data = A5SS_data[A5SS_nn]\n",
    "A5SS_data = A5SS_data/A5SS_data.sum(axis=1)[:,None]\n",
    "A5SS_seqs = pd.read_csv('A5SS_Seqs.csv',index_col=0).Seq[A5SS_nn]"
   ]
  },
  {
   "cell_type": "code",
   "execution_count": 2,
   "id": "brown-watch",
   "metadata": {},
   "outputs": [],
   "source": [
    "a5ss_full='atggtgtccaagggcgaggagctgttcaccggggtggtgcccatcctggtcgagctggacggcgacgtaaacggccacaagttcagcgtcagcggcgagggcgagggcgatgccacctacggcaaactgaccctgaagttcatctgcaccaccggcaagctgcccgtgccctggcccaccctcgtgaccaccttcggctacggcctgatgtgcttcgcccgctaccccgaccacatgaagcagcacgacttcttcaagtccgccatgcccgaaggctacgtccaggagcgcaccatcttcttcaaggacgacggcaactacaagacccgcgccgaagtgaagttcgagggcgacaccctcgtgaaccgcatcgagctaaagggcatcgacttcaaggaggacggcaacatcctggggcacaagctggagtacaactacaacagccacaacgtctatatcatggccgacaagcagaagaacggcatcaaagtgaacttcaagatccgccacaacatcgaggtgcttggnnnnnnnnnnnnnnnnnnnnnnnnnggtcgacccaggttcgtgnnnnnnnnnnnnnnnnnnnnnnnnngaggtattcttatcaccttcgtggctacagagtttccttatttgtctctgttgccggcttatatggacaagcatatcacagccatttatcggagcgcctccgtacacgctattatcggacgcctcgcgagatcaatacgtataccagctgccctcgatacatgtcttggcatcgtttgcttctcgagtactacctggttcctcttctttctttctcttctctttcaggacggcagcgtgcagctcgccgaccactaccagcagaacacccccatcggcgacggccccgtgctgctgcccgacaaccactacctgagctaccagtccgccctgagcaaagaccccaacgagaagcgcgatcacatggtcctgctggagttcgtgaccgccgccgggatcactctcggcatggacgagctgtacaagga'.upper()\n",
    "# elem_list=[0, 7, 8, 9, 10, 11, 12, 13, 14, 15, 16, 17, 18, 19, 20, 21, 22, 23, 24, 25, 26, 27, 28, 29, 30, 31, 32, 33, 34, 44, 50, 51, 52, 53, 54, 55, 56, 57, 58, 59, 60, 61, 62, 63, 64, 65, 66, 67, 68, 69, 70, 71, 72, 73, 74, 79]"
   ]
  },
  {
   "cell_type": "code",
   "execution_count": null,
   "id": "pediatric-patrick",
   "metadata": {},
   "outputs": [],
   "source": []
  },
  {
   "cell_type": "code",
   "execution_count": null,
   "id": "governmental-august",
   "metadata": {},
   "outputs": [],
   "source": []
  },
  {
   "cell_type": "code",
   "execution_count": 3,
   "id": "spectacular-subject",
   "metadata": {},
   "outputs": [
    {
     "name": "stdout",
     "output_type": "stream",
     "text": [
      "Epoch 1000 // time=119.961 secs\n"
     ]
    },
    {
     "ename": "KeyboardInterrupt",
     "evalue": "",
     "output_type": "error",
     "traceback": [
      "\u001b[0;31m---------------------------------------------------------------------------\u001b[0m",
      "\u001b[0;31mKeyboardInterrupt\u001b[0m                         Traceback (most recent call last)",
      "\u001b[0;32m<ipython-input-3-06b7ab8f124b>\u001b[0m in \u001b[0;36m<module>\u001b[0;34m\u001b[0m\n\u001b[1;32m     34\u001b[0m             \u001b[0mf\u001b[0m\u001b[0;34m.\u001b[0m\u001b[0mwrite\u001b[0m\u001b[0;34m(\u001b[0m\u001b[0mtrun\u001b[0m\u001b[0;34m[\u001b[0m\u001b[0mwp\u001b[0m\u001b[0;34m:\u001b[0m\u001b[0mwp\u001b[0m\u001b[0;34m+\u001b[0m\u001b[0;36m6\u001b[0m\u001b[0;34m]\u001b[0m\u001b[0;34m)\u001b[0m\u001b[0;34m\u001b[0m\u001b[0;34m\u001b[0m\u001b[0m\n\u001b[1;32m     35\u001b[0m             \u001b[0;32mif\u001b[0m \u001b[0mwp\u001b[0m\u001b[0;34m<\u001b[0m\u001b[0mlen\u001b[0m\u001b[0;34m(\u001b[0m\u001b[0mtrun\u001b[0m\u001b[0;34m)\u001b[0m\u001b[0;34m-\u001b[0m\u001b[0;36m6\u001b[0m\u001b[0;34m:\u001b[0m\u001b[0;34m\u001b[0m\u001b[0;34m\u001b[0m\u001b[0m\n\u001b[0;32m---> 36\u001b[0;31m                 \u001b[0mf\u001b[0m\u001b[0;34m.\u001b[0m\u001b[0mwrite\u001b[0m\u001b[0;34m(\u001b[0m\u001b[0;34m\" \"\u001b[0m\u001b[0;34m)\u001b[0m\u001b[0;34m\u001b[0m\u001b[0;34m\u001b[0m\u001b[0m\n\u001b[0m\u001b[1;32m     37\u001b[0m         \u001b[0mf\u001b[0m\u001b[0;34m.\u001b[0m\u001b[0mwrite\u001b[0m\u001b[0;34m(\u001b[0m\u001b[0;34m'\\t'\u001b[0m\u001b[0;34m)\u001b[0m\u001b[0;34m\u001b[0m\u001b[0;34m\u001b[0m\u001b[0m\n\u001b[1;32m     38\u001b[0m         \u001b[0mf\u001b[0m\u001b[0;34m.\u001b[0m\u001b[0mwrite\u001b[0m\u001b[0;34m(\u001b[0m\u001b[0mstr\u001b[0m\u001b[0;34m(\u001b[0m\u001b[0mY0\u001b[0m\u001b[0;34m[\u001b[0m\u001b[0;36m0\u001b[0m\u001b[0;34m]\u001b[0m\u001b[0;34m[\u001b[0m\u001b[0mpos\u001b[0m\u001b[0;34m]\u001b[0m\u001b[0;34m[\u001b[0m\u001b[0;36m2\u001b[0m\u001b[0;34m]\u001b[0m\u001b[0;34m)\u001b[0m\u001b[0;34m)\u001b[0m\u001b[0;34m\u001b[0m\u001b[0;34m\u001b[0m\u001b[0m\n",
      "\u001b[0;31mKeyboardInterrupt\u001b[0m: "
     ]
    }
   ],
   "source": [
    "train_end = 212036\n",
    "\n",
    "X_batch = []\n",
    "Y_batch = [[] for t in range(1)]\n",
    "count_data=0\n",
    "\n",
    "start_time = time.time()\n",
    "\n",
    "for i in range(train_end):\n",
    "\n",
    "    new_seq=a5ss_full[:520]+A5SS_seqs[i]+a5ss_full[621:]\n",
    "    \n",
    "        \n",
    "    #assert a5ss_full[708+25:708+25+24]==A3SS_seqs['Seq'][i][25:49]\n",
    "    assert len(new_seq)==len(a5ss_full)\n",
    "    \n",
    "    \n",
    "    new_seq = new_seq.upper()\n",
    "    Y0 = np.array([[np.array([1.0,0.0,0.0]) for _ in range(1017)] for t in range(1)])\n",
    "    \n",
    "    for elem in range(303):\n",
    "        ratio=float(A5SS_data[i][elem])\n",
    "        Y0[0][518+elem][2]=ratio\n",
    "        Y0[0][518+elem][0]=1-ratio\n",
    "    \n",
    "\n",
    "    Y0[0][519+303][1]= 1-float(A5SS_data[i][303])\n",
    "    Y0[0][519+303][0]=float(A5SS_data[i][303])\n",
    "\n",
    "    for pos in range(200,len(new_seq)-200-5):\n",
    "        trun=new_seq[pos-200:pos+200+1+5]\n",
    "        f = open(\"tf_a5ss.tsv\", 'a')\n",
    "        for wp in range(len(trun)-6+1):\n",
    "            f.write(trun[wp:wp+6])\n",
    "            if wp<len(trun)-6:\n",
    "                f.write(\" \")\n",
    "        f.write('\\t')\n",
    "        f.write(str(Y0[0][pos][2]))\n",
    "        f.write('\\n')\n",
    "        f.close()\n",
    "                \n",
    "            \n",
    "            \n",
    "    \n",
    "    if (i+1)%1000==0:\n",
    "        t = time.time()-start_time\n",
    "        print('Epoch %i // time=%.3f secs' %(i+1,t))\n",
    "\n",
    "        \n",
    "        "
   ]
  },
  {
   "cell_type": "code",
   "execution_count": null,
   "id": "temporal-sector",
   "metadata": {},
   "outputs": [],
   "source": []
  }
 ],
 "metadata": {
  "kernelspec": {
   "display_name": "Python .conda-dnabert",
   "language": "python",
   "name": "conda-env-.conda-dnabert-py"
  },
  "language_info": {
   "codemirror_mode": {
    "name": "ipython",
    "version": 3
   },
   "file_extension": ".py",
   "mimetype": "text/x-python",
   "name": "python",
   "nbconvert_exporter": "python",
   "pygments_lexer": "ipython3",
   "version": "3.6.12"
  }
 },
 "nbformat": 4,
 "nbformat_minor": 5
}
